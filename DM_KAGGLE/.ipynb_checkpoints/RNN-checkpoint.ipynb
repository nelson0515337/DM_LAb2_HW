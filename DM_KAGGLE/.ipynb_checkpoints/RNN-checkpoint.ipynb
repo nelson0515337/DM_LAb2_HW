{
 "cells": [
  {
   "cell_type": "code",
   "execution_count": 1,
   "id": "20d7bbef",
   "metadata": {},
   "outputs": [],
   "source": [
    "import pandas as pd\n",
    "import numpy as np"
   ]
  },
  {
   "cell_type": "code",
   "execution_count": 2,
   "id": "57b8859d",
   "metadata": {},
   "outputs": [
    {
     "name": "stdout",
     "output_type": "stream",
     "text": [
      "Wall time: 2.49 s\n"
     ]
    }
   ],
   "source": [
    "%%time\n",
    "twitter = pd.read_csv(\"preprocessed_data.csv\")   "
   ]
  },
  {
   "cell_type": "code",
   "execution_count": 3,
   "id": "fddfec48",
   "metadata": {},
   "outputs": [],
   "source": [
    "from nltk.stem import PorterStemmer\n",
    "from nltk.tokenize import word_tokenize\n",
    "import re\n",
    "import string\n",
    "from nltk.corpus import stopwords\n",
    "\n",
    "stop = set(stopwords.words(\"english\"))\n",
    "\n",
    "\n",
    "def stemming(sentence):\n",
    "    ps = PorterStemmer()\n",
    "    words = word_tokenize(sentence)\n",
    "    res = []\n",
    "    for w in words:\n",
    "        res.append(ps.stem(w))\n",
    "    return ' '.join(res)\n",
    "\n",
    "\n",
    "def remove_URL(text):\n",
    "    url = re.compile(r\"https?://\\S+|www\\.\\S+\")\n",
    "    return url.sub(r\"\", text)\n",
    "\n",
    "\n",
    "def remove_html(text):\n",
    "    html = re.compile(r\"<.*?>\")\n",
    "    return html.sub(r\"\", text)\n",
    "\n",
    "def remove_emoji(string):\n",
    "    emoji_pattern = re.compile(\n",
    "        \"[\"\n",
    "        u\"\\U0001F600-\\U0001F64F\"  # emoticons\n",
    "        u\"\\U0001F300-\\U0001F5FF\"  # symbols & pictographs\n",
    "        u\"\\U0001F680-\\U0001F6FF\"  # transport & map symbols\n",
    "        u\"\\U0001F1E0-\\U0001F1FF\"  # flags (iOS)\n",
    "        u\"\\U00002702-\\U000027B0\"\n",
    "        u\"\\U000024C2-\\U0001F251\"\n",
    "        \"]+\",\n",
    "        flags=re.UNICODE,\n",
    "    )\n",
    "    return emoji_pattern.sub(r\"\", string)\n",
    "\n",
    "def remove_punct(text):\n",
    "    table = str.maketrans(\"\", \"\", string.punctuation)\n",
    "    return text.translate(table)\n",
    "\n",
    "\n",
    "\n",
    "def remove_stopwords(text):\n",
    "    text = [word.lower() for word in text.split() if word.lower() not in stop]\n",
    "    return \" \".join(text)\n",
    "\n",
    "\n",
    "#twitter[\"text\"] = twitter.text.apply(stemming)\n",
    "twitter[\"text\"] = twitter.text.apply(remove_URL)\n",
    "twitter[\"text\"] = twitter.text.apply(remove_html)\n",
    "twitter[\"text\"] = twitter.text.apply(remove_punct)\n",
    "twitter[\"text\"] = twitter.text.apply(remove_stopwords)"
   ]
  },
  {
   "cell_type": "code",
   "execution_count": 4,
   "id": "3a0cdd43",
   "metadata": {},
   "outputs": [
    {
     "data": {
      "text/html": [
       "<div>\n",
       "<style scoped>\n",
       "    .dataframe tbody tr th:only-of-type {\n",
       "        vertical-align: middle;\n",
       "    }\n",
       "\n",
       "    .dataframe tbody tr th {\n",
       "        vertical-align: top;\n",
       "    }\n",
       "\n",
       "    .dataframe thead th {\n",
       "        text-align: right;\n",
       "    }\n",
       "</style>\n",
       "<table border=\"1\" class=\"dataframe\">\n",
       "  <thead>\n",
       "    <tr style=\"text-align: right;\">\n",
       "      <th></th>\n",
       "      <th>_score</th>\n",
       "      <th>tweet_id</th>\n",
       "      <th>text</th>\n",
       "      <th>identification</th>\n",
       "      <th>emotion</th>\n",
       "      <th>Category</th>\n",
       "    </tr>\n",
       "  </thead>\n",
       "  <tbody>\n",
       "    <tr>\n",
       "      <th>0</th>\n",
       "      <td>391</td>\n",
       "      <td>0x376b20</td>\n",
       "      <td>peopl post add snapchat must dehydr cuz man</td>\n",
       "      <td>train</td>\n",
       "      <td>anticipation</td>\n",
       "      <td>4</td>\n",
       "    </tr>\n",
       "    <tr>\n",
       "      <th>1</th>\n",
       "      <td>433</td>\n",
       "      <td>0x2d5350</td>\n",
       "      <td>brianklaa see trump danger freepress around wo...</td>\n",
       "      <td>train</td>\n",
       "      <td>sadness</td>\n",
       "      <td>8</td>\n",
       "    </tr>\n",
       "    <tr>\n",
       "      <th>2</th>\n",
       "      <td>376</td>\n",
       "      <td>0x1cd5b0</td>\n",
       "      <td>issa stalk tasha 😂😂😂</td>\n",
       "      <td>train</td>\n",
       "      <td>fear</td>\n",
       "      <td>1</td>\n",
       "    </tr>\n",
       "    <tr>\n",
       "      <th>3</th>\n",
       "      <td>120</td>\n",
       "      <td>0x1d755c</td>\n",
       "      <td>riskshow thekevinallison thx best time tonight...</td>\n",
       "      <td>train</td>\n",
       "      <td>joy</td>\n",
       "      <td>7</td>\n",
       "    </tr>\n",
       "    <tr>\n",
       "      <th>4</th>\n",
       "      <td>1021</td>\n",
       "      <td>0x2c91a8</td>\n",
       "      <td>still wait suppli liscu</td>\n",
       "      <td>train</td>\n",
       "      <td>anticipation</td>\n",
       "      <td>4</td>\n",
       "    </tr>\n",
       "    <tr>\n",
       "      <th>...</th>\n",
       "      <td>...</td>\n",
       "      <td>...</td>\n",
       "      <td>...</td>\n",
       "      <td>...</td>\n",
       "      <td>...</td>\n",
       "      <td>...</td>\n",
       "    </tr>\n",
       "    <tr>\n",
       "      <th>1451432</th>\n",
       "      <td>94</td>\n",
       "      <td>0x321566</td>\n",
       "      <td>im happi nowond name thi show happi happysyfi ...</td>\n",
       "      <td>train</td>\n",
       "      <td>joy</td>\n",
       "      <td>7</td>\n",
       "    </tr>\n",
       "    <tr>\n",
       "      <th>1451433</th>\n",
       "      <td>627</td>\n",
       "      <td>0x38959e</td>\n",
       "      <td>everi circumt id like thank almighti jesu christ</td>\n",
       "      <td>train</td>\n",
       "      <td>joy</td>\n",
       "      <td>7</td>\n",
       "    </tr>\n",
       "    <tr>\n",
       "      <th>1451434</th>\n",
       "      <td>274</td>\n",
       "      <td>0x2cbca6</td>\n",
       "      <td>current two girl walk around librari hand red ...</td>\n",
       "      <td>train</td>\n",
       "      <td>joy</td>\n",
       "      <td>7</td>\n",
       "    </tr>\n",
       "    <tr>\n",
       "      <th>1451435</th>\n",
       "      <td>840</td>\n",
       "      <td>0x24faed</td>\n",
       "      <td>ah corpor life date use rel anachron last job ...</td>\n",
       "      <td>train</td>\n",
       "      <td>joy</td>\n",
       "      <td>7</td>\n",
       "    </tr>\n",
       "    <tr>\n",
       "      <th>1451436</th>\n",
       "      <td>360</td>\n",
       "      <td>0x34be8c</td>\n",
       "      <td>bless live sundayvib</td>\n",
       "      <td>train</td>\n",
       "      <td>joy</td>\n",
       "      <td>7</td>\n",
       "    </tr>\n",
       "  </tbody>\n",
       "</table>\n",
       "<p>1451437 rows × 6 columns</p>\n",
       "</div>"
      ],
      "text/plain": [
       "         _score  tweet_id                                               text  \\\n",
       "0           391  0x376b20        peopl post add snapchat must dehydr cuz man   \n",
       "1           433  0x2d5350  brianklaa see trump danger freepress around wo...   \n",
       "2           376  0x1cd5b0                               issa stalk tasha 😂😂😂   \n",
       "3           120  0x1d755c  riskshow thekevinallison thx best time tonight...   \n",
       "4          1021  0x2c91a8                            still wait suppli liscu   \n",
       "...         ...       ...                                                ...   \n",
       "1451432      94  0x321566  im happi nowond name thi show happi happysyfi ...   \n",
       "1451433     627  0x38959e   everi circumt id like thank almighti jesu christ   \n",
       "1451434     274  0x2cbca6  current two girl walk around librari hand red ...   \n",
       "1451435     840  0x24faed  ah corpor life date use rel anachron last job ...   \n",
       "1451436     360  0x34be8c                               bless live sundayvib   \n",
       "\n",
       "        identification       emotion  Category  \n",
       "0                train  anticipation         4  \n",
       "1                train       sadness         8  \n",
       "2                train          fear         1  \n",
       "3                train           joy         7  \n",
       "4                train  anticipation         4  \n",
       "...                ...           ...       ...  \n",
       "1451432          train           joy         7  \n",
       "1451433          train           joy         7  \n",
       "1451434          train           joy         7  \n",
       "1451435          train           joy         7  \n",
       "1451436          train           joy         7  \n",
       "\n",
       "[1451437 rows x 6 columns]"
      ]
     },
     "execution_count": 4,
     "metadata": {},
     "output_type": "execute_result"
    }
   ],
   "source": [
    "pd.set_option('display.max_rows', 1000)\n",
    "twitter"
   ]
  },
  {
   "cell_type": "code",
   "execution_count": 5,
   "id": "511fef9b",
   "metadata": {},
   "outputs": [
    {
     "data": {
      "text/plain": [
       "'\\n%%time\\nfrom nltk.stem import PorterStemmer\\nfrom nltk.tokenize import word_tokenize\\nimport re\\nimport string\\nfrom nltk.corpus import stopwords\\n\\nstop = set(stopwords.words(\"english\"))\\n\\ndef stemming(sentence):\\n    ps = PorterStemmer()\\n    words = word_tokenize(sentence)\\n    res = []\\n    for w in words:\\n        res.append(ps.stem(w))\\n    return \\' \\'.join(res)\\n\\n\\ndef remove_URL(text):\\n    url = re.compile(r\"https?://\\\\S+|www\\\\.\\\\S+\")\\n    return url.sub(r\"\", text)\\n\\n\\ndef remove_html(text):\\n    html = re.compile(r\"<.*?>\")\\n    return html.sub(r\"\", text)\\n\\ndef remove_emoji(string):\\n    emoji_pattern = re.compile(\\n        \"[\"\\n        u\"😀-🙏\"  # emoticons\\n        u\"🌀-🗿\"  # symbols & pictographs\\n        u\"🚀-\\U0001f6ff\"  # transport & map symbols\\n        u\"\\U0001f1e0-🇿\"  # flags (iOS)\\n        u\"✂-➰\"\\n        u\"Ⓜ-🉑\"\\n        \"]+\",\\n        flags=re.UNICODE,\\n    )\\n    return emoji_pattern.sub(r\"\", string)\\n\\ndef remove_punct(text):\\n    table = str.maketrans(\"\", \"\", string.punctuation)\\n    return text.translate(table)\\n\\n\\n\\ndef remove_stopwords(text):\\n    text = [word.lower() for word in text.split() if word.lower() not in stop]\\n    return \" \".join(text)\\n\\ntwitter[\"text\"] = twitter.text.apply(stemming)\\ntwitter[\"text\"] = twitter.text.apply(remove_URL)\\ntwitter[\"text\"] = twitter.text.apply(remove_html)\\ntwitter[\"text\"] = twitter.text.apply(remove_emoji)\\ntwitter[\"text\"] = twitter.text.apply(remove_punct)\\ntwitter[\"text\"] = twitter.text.apply(remove_stopwords)\\n\\ntwitter\\n'"
      ]
     },
     "execution_count": 5,
     "metadata": {},
     "output_type": "execute_result"
    }
   ],
   "source": [
    "'''\n",
    "%%time\n",
    "from nltk.stem import PorterStemmer\n",
    "from nltk.tokenize import word_tokenize\n",
    "import re\n",
    "import string\n",
    "from nltk.corpus import stopwords\n",
    "\n",
    "stop = set(stopwords.words(\"english\"))\n",
    "\n",
    "def stemming(sentence):\n",
    "    ps = PorterStemmer()\n",
    "    words = word_tokenize(sentence)\n",
    "    res = []\n",
    "    for w in words:\n",
    "        res.append(ps.stem(w))\n",
    "    return ' '.join(res)\n",
    "\n",
    "\n",
    "def remove_URL(text):\n",
    "    url = re.compile(r\"https?://\\S+|www\\.\\S+\")\n",
    "    return url.sub(r\"\", text)\n",
    "\n",
    "\n",
    "def remove_html(text):\n",
    "    html = re.compile(r\"<.*?>\")\n",
    "    return html.sub(r\"\", text)\n",
    "\n",
    "def remove_emoji(string):\n",
    "    emoji_pattern = re.compile(\n",
    "        \"[\"\n",
    "        u\"\\U0001F600-\\U0001F64F\"  # emoticons\n",
    "        u\"\\U0001F300-\\U0001F5FF\"  # symbols & pictographs\n",
    "        u\"\\U0001F680-\\U0001F6FF\"  # transport & map symbols\n",
    "        u\"\\U0001F1E0-\\U0001F1FF\"  # flags (iOS)\n",
    "        u\"\\U00002702-\\U000027B0\"\n",
    "        u\"\\U000024C2-\\U0001F251\"\n",
    "        \"]+\",\n",
    "        flags=re.UNICODE,\n",
    "    )\n",
    "    return emoji_pattern.sub(r\"\", string)\n",
    "\n",
    "def remove_punct(text):\n",
    "    table = str.maketrans(\"\", \"\", string.punctuation)\n",
    "    return text.translate(table)\n",
    "\n",
    "\n",
    "\n",
    "def remove_stopwords(text):\n",
    "    text = [word.lower() for word in text.split() if word.lower() not in stop]\n",
    "    return \" \".join(text)\n",
    "\n",
    "twitter[\"text\"] = twitter.text.apply(stemming)\n",
    "twitter[\"text\"] = twitter.text.apply(remove_URL)\n",
    "twitter[\"text\"] = twitter.text.apply(remove_html)\n",
    "twitter[\"text\"] = twitter.text.apply(remove_emoji)\n",
    "twitter[\"text\"] = twitter.text.apply(remove_punct)\n",
    "twitter[\"text\"] = twitter.text.apply(remove_stopwords)\n",
    "\n",
    "twitter\n",
    "'''"
   ]
  },
  {
   "cell_type": "code",
   "execution_count": 12,
   "id": "63c1ec93",
   "metadata": {},
   "outputs": [],
   "source": [
    "#twitter.to_csv(\"preprocessed_without_emoji.csv\", index=False)"
   ]
  },
  {
   "cell_type": "code",
   "execution_count": 13,
   "id": "3ff6098f",
   "metadata": {},
   "outputs": [
    {
     "name": "stdout",
     "output_type": "stream",
     "text": [
      "Found 857774 unique tokens.\n",
      "Wall time: 14.8 s\n"
     ]
    }
   ],
   "source": [
    "%%time\n",
    "from keras.preprocessing.text import Tokenizer\n",
    "# The maximum number of words to be used. (most frequent)\n",
    "MAX_NB_WORDS = 50000\n",
    "# Max number of words in each complaint.\n",
    "MAX_SEQUENCE_LENGTH = 250\n",
    "# This is fixed.\n",
    "EMBEDDING_DIM = 100\n",
    "tokenizer = Tokenizer(num_words=MAX_NB_WORDS, filters='!\"#$%&()*+,-./:;<=>?@[\\]^_`{|}~', lower=True)\n",
    "twitter.text = twitter.text.astype(str)\n",
    "tokenizer.fit_on_texts(twitter['text'].values)\n",
    "word_index = tokenizer.word_index\n",
    "print('Found %s unique tokens.' % len(word_index))"
   ]
  },
  {
   "cell_type": "code",
   "execution_count": 14,
   "id": "d7785449",
   "metadata": {},
   "outputs": [
    {
     "name": "stdout",
     "output_type": "stream",
     "text": [
      "Shape of data tensor: (1451437, 250)\n"
     ]
    }
   ],
   "source": [
    "from keras.preprocessing.sequence import pad_sequences\n",
    "X = tokenizer.texts_to_sequences(twitter['text'].values)\n",
    "X = pad_sequences(X, maxlen=MAX_SEQUENCE_LENGTH)\n",
    "print('Shape of data tensor:', X.shape)"
   ]
  },
  {
   "cell_type": "code",
   "execution_count": 15,
   "id": "a1300580",
   "metadata": {},
   "outputs": [
    {
     "name": "stdout",
     "output_type": "stream",
     "text": [
      "Shape of label tensor: (1451437, 8)\n"
     ]
    }
   ],
   "source": [
    "Y = pd.get_dummies(twitter['emotion']).values\n",
    "print('Shape of label tensor:', Y.shape)"
   ]
  },
  {
   "cell_type": "code",
   "execution_count": 16,
   "id": "eea9b7f5",
   "metadata": {},
   "outputs": [
    {
     "name": "stdout",
     "output_type": "stream",
     "text": [
      "(1306293, 250) (1306293, 8)\n",
      "(145144, 250) (145144, 8)\n"
     ]
    }
   ],
   "source": [
    "from sklearn.model_selection import train_test_split\n",
    "\n",
    "X_train, X_test, Y_train, Y_test = train_test_split(X,Y, test_size = 0.10, random_state = 42)\n",
    "print(X_train.shape,Y_train.shape)\n",
    "print(X_test.shape,Y_test.shape)"
   ]
  },
  {
   "cell_type": "code",
   "execution_count": 19,
   "id": "63230c99",
   "metadata": {},
   "outputs": [
    {
     "name": "stdout",
     "output_type": "stream",
     "text": [
      "Epoch 1/5\n",
      "2297/2297 [==============================] - 5632s 2s/step - loss: 1.3420 - accuracy: 0.5160 - val_loss: 1.2613 - val_accuracy: 0.5436\n",
      "Epoch 2/5\n",
      "2297/2297 [==============================] - 5489s 2s/step - loss: 1.2226 - accuracy: 0.5569 - val_loss: 1.2480 - val_accuracy: 0.5476\n",
      "Epoch 3/5\n",
      "2297/2297 [==============================] - 5598s 2s/step - loss: 1.1804 - accuracy: 0.5705 - val_loss: 1.2511 - val_accuracy: 0.5477\n"
     ]
    }
   ],
   "source": [
    "import tensorflow as tf\n",
    "from tensorflow import keras\n",
    "from tensorflow.keras.layers import  Embedding, SpatialDropout1D, Dense\n",
    "from tensorflow.keras.layers import LSTM\n",
    "\n",
    "\n",
    "model = keras.Sequential()\n",
    "model.add(Embedding(MAX_NB_WORDS, EMBEDDING_DIM, input_length=X.shape[1]))\n",
    "model.add(SpatialDropout1D(0.2))\n",
    "model.add(LSTM(100, dropout=0.2, recurrent_dropout=0.2))\n",
    "model.add(Dense(8, activation='softmax'))\n",
    "model.compile(loss='categorical_crossentropy', optimizer='adam', metrics=['accuracy'])\n",
    "\n",
    "epochs = 5\n",
    "batch_size = 128\n",
    "\n",
    "history = model.fit(X_train, Y_train, epochs=epochs, batch_size=batch_size, validation_split=0.1, callbacks=[tf.keras.callbacks.EarlyStopping\n",
    "(monitor='val_loss', patience=1, min_delta=0.0001)])"
   ]
  },
  {
   "cell_type": "code",
   "execution_count": 20,
   "id": "80835d3e",
   "metadata": {},
   "outputs": [],
   "source": [
    "model.save('RNN_model_1.h5')"
   ]
  },
  {
   "cell_type": "code",
   "execution_count": 21,
   "id": "b002ea37",
   "metadata": {},
   "outputs": [
    {
     "name": "stdout",
     "output_type": "stream",
     "text": [
      "4536/4536 [==============================] - 69s 15ms/step - loss: 1.2511 - accuracy: 0.5483\n",
      "Test set\n",
      "  Loss: 1.251\n",
      "  Accuracy: 0.548\n"
     ]
    }
   ],
   "source": [
    "accr = model.evaluate(X_test,Y_test)\n",
    "print('Test set\\n  Loss: {:0.3f}\\n  Accuracy: {:0.3f}'.format(accr[0],accr[1]))"
   ]
  },
  {
   "cell_type": "code",
   "execution_count": 22,
   "id": "18f84962",
   "metadata": {},
   "outputs": [],
   "source": [
    "labels = ['anger', 'anticipation', 'disgust', 'fear', 'joy', 'sadness', 'surprise', 'trust']\n"
   ]
  },
  {
   "cell_type": "code",
   "execution_count": 23,
   "id": "1b97bc09",
   "metadata": {},
   "outputs": [
    {
     "data": {
      "image/png": "[encoded data removed]",
      "text/plain": [
       "<Figure size 432x288 with 1 Axes>"
      ]
     },
     "metadata": {
      "needs_background": "light"
     },
     "output_type": "display_data"
    }
   ],
   "source": [
    "import matplotlib.pyplot as plt\n",
    "plt.title('Loss')\n",
    "plt.plot(history.history['loss'], label='train')\n",
    "plt.plot(history.history['val_loss'], label='test')\n",
    "plt.legend()\n",
    "plt.show();"
   ]
  },
  {
   "cell_type": "code",
   "execution_count": 24,
   "id": "1906002c",
   "metadata": {},
   "outputs": [
    {
     "data": {
      "image/png": "[encoded data removed]",
      "text/plain": [
       "<Figure size 432x288 with 1 Axes>"
      ]
     },
     "metadata": {
      "needs_background": "light"
     },
     "output_type": "display_data"
    }
   ],
   "source": [
    "plt.title('Accuracy')\n",
    "plt.plot(history.history['accuracy'], label='train')\n",
    "plt.plot(history.history['val_accuracy'], label='test')\n",
    "plt.legend()\n",
    "plt.show();"
   ]
  },
  {
   "cell_type": "code",
   "execution_count": 29,
   "id": "14c9c19e",
   "metadata": {},
   "outputs": [
    {
     "name": "stdout",
     "output_type": "stream",
     "text": [
      "joy\n"
     ]
    }
   ],
   "source": [
    "new_complaint = ['U are soo bad, you have to quit the game!']\n",
    "seq = tokenizer.texts_to_sequences(new_complaint)\n",
    "padded = pad_sequences(seq, maxlen=MAX_SEQUENCE_LENGTH)\n",
    "pred = model.predict(padded)\n",
    "print(labels[np.argmax(pred)])"
   ]
  },
  {
   "cell_type": "code",
   "execution_count": 30,
   "id": "530f775e",
   "metadata": {},
   "outputs": [],
   "source": [
    "pred = model.predict(X_test, batch_size=128)\n",
    "pred_res=[]\n",
    "ground_truth=[]\n",
    "\n",
    "for p in pred :\n",
    "    pred_res.append(labels[np.argmax(p)])\n",
    "    \n",
    "for y in Y_test :\n",
    "    ground_truth.append(labels[np.argmax(y)])"
   ]
  },
  {
   "cell_type": "code",
   "execution_count": 31,
   "id": "06f02700",
   "metadata": {},
   "outputs": [
    {
     "name": "stdout",
     "output_type": "stream",
     "text": [
      "              precision    recall  f1-score   support\n",
      "\n",
      "       anger       0.51      0.24      0.33      4028\n",
      "anticipation       0.63      0.53      0.57     25007\n",
      "     disgust       0.47      0.37      0.41     13895\n",
      "        fear       0.66      0.38      0.48      6588\n",
      "         joy       0.55      0.81      0.65     51223\n",
      "     sadness       0.49      0.49      0.49     19459\n",
      "    surprise       0.47      0.23      0.31      4784\n",
      "       trust       0.56      0.29      0.38     20160\n",
      "\n",
      "    accuracy                           0.55    145144\n",
      "   macro avg       0.54      0.42      0.45    145144\n",
      "weighted avg       0.55      0.55      0.53    145144\n",
      "\n",
      "**************************************************************\n",
      "Normalized confusion matrix\n",
      "[[0.24031778 0.04816286 0.13728898 0.01241311 0.30610725 0.22194638\n",
      "  0.01067527 0.02308838]\n",
      " [0.0039189  0.52637262 0.02379334 0.00827768 0.33630583 0.05302515\n",
      "  0.00639821 0.04190827]\n",
      " [0.02029507 0.04202951 0.36869377 0.0127384  0.27513494 0.23555236\n",
      "  0.01892767 0.02662828]\n",
      " [0.00652702 0.07119004 0.04568913 0.37613843 0.36505768 0.10003036\n",
      "  0.01153613 0.02383121]\n",
      " [0.00285028 0.06698163 0.02106476 0.0073795  0.80666888 0.0451555\n",
      "  0.0061691  0.04373036]\n",
      " [0.01279614 0.04630248 0.11197903 0.01248779 0.28480395 0.49468112\n",
      "  0.01315587 0.02379362]\n",
      " [0.00919732 0.06166388 0.09406355 0.01609532 0.39172241 0.16680602\n",
      "  0.22993311 0.03051839]\n",
      " [0.0030754  0.09801587 0.02638889 0.00649802 0.52574405 0.04647817\n",
      "  0.00570437 0.28809524]]\n"
     ]
    },
    {
     "data": {
      "image/png": "[encoded data removed]",
      "text/plain": [
       "<Figure size 432x288 with 2 Axes>"
      ]
     },
     "metadata": {
      "needs_background": "light"
     },
     "output_type": "display_data"
    }
   ],
   "source": [
    "from sklearn.metrics import classification_report\n",
    "\n",
    "import itertools\n",
    "from sklearn.metrics import confusion_matrix\n",
    "import numpy as np\n",
    "\n",
    "\n",
    "\n",
    "def plot_confusion_matrix(cm, classes,\n",
    "                          normalize=False,\n",
    "                          title='Confusion matrix',\n",
    "                          cmap=plt.cm.Blues):\n",
    "    \"\"\"\n",
    "    This function prints and plots the confusion matrix.\n",
    "    Normalization can be applied by setting `normalize=True`.\n",
    "    \"\"\"\n",
    "    if normalize:\n",
    "        cm = cm.astype('float') / cm.sum(axis=1)[:, np.newaxis]\n",
    "        print(\"Normalized confusion matrix\")\n",
    "    else:\n",
    "        print('Confusion matrix, without normalization')\n",
    "\n",
    "    print(cm)\n",
    "\n",
    "    plt.imshow(cm, interpolation='nearest', cmap=cmap)\n",
    "    plt.title(title)\n",
    "    plt.colorbar()\n",
    "    tick_marks = np.arange(len(classes))\n",
    "    plt.xticks(tick_marks, classes, rotation=45)\n",
    "    plt.yticks(tick_marks, classes)\n",
    "\n",
    "    fmt = '.2f' if normalize else 'd'\n",
    "    thresh = cm.max() / 2.\n",
    "    for i, j in itertools.product(range(cm.shape[0]), range(cm.shape[1])):\n",
    "        plt.text(j, i, format(cm[i, j], fmt),\n",
    "                 horizontalalignment=\"center\",\n",
    "                 color=\"white\" if cm[i, j] > thresh else \"black\")\n",
    "\n",
    "    plt.ylabel('True label')\n",
    "    plt.xlabel('Predicted label')\n",
    "    plt.tight_layout()\n",
    "    \n",
    "    \n",
    "print(classification_report(ground_truth, pred_res, target_names=labels))\n",
    "print (\"**************************************************************\")\n",
    "\n",
    "plt.figure()\n",
    "cnf_matrix = confusion_matrix(ground_truth, pred_res)\n",
    "plot_confusion_matrix(cnf_matrix, classes=labels, normalize=True,\n",
    "                    title= 'confusion matrix')\n",
    "\n",
    "plt.show()"
   ]
  },
  {
   "cell_type": "code",
   "execution_count": 35,
   "id": "23741cad",
   "metadata": {},
   "outputs": [
    {
     "name": "stdout",
     "output_type": "stream",
     "text": [
      "Wall time: 2min 12s\n"
     ]
    },
    {
     "data": {
      "text/html": [
       "<div>\n",
       "<style scoped>\n",
       "    .dataframe tbody tr th:only-of-type {\n",
       "        vertical-align: middle;\n",
       "    }\n",
       "\n",
       "    .dataframe tbody tr th {\n",
       "        vertical-align: top;\n",
       "    }\n",
       "\n",
       "    .dataframe thead th {\n",
       "        text-align: right;\n",
       "    }\n",
       "</style>\n",
       "<table border=\"1\" class=\"dataframe\">\n",
       "  <thead>\n",
       "    <tr style=\"text-align: right;\">\n",
       "      <th></th>\n",
       "      <th>_score</th>\n",
       "      <th>tweet_id</th>\n",
       "      <th>text</th>\n",
       "      <th>identification</th>\n",
       "    </tr>\n",
       "  </thead>\n",
       "  <tbody>\n",
       "    <tr>\n",
       "      <th>0</th>\n",
       "      <td>232</td>\n",
       "      <td>0x28b412</td>\n",
       "      <td>confid obedi write know even ask philemon 121 ...</td>\n",
       "      <td>test</td>\n",
       "    </tr>\n",
       "    <tr>\n",
       "      <th>1</th>\n",
       "      <td>989</td>\n",
       "      <td>0x2de201</td>\n",
       "      <td>trust faith friend someon trust put faith anyo...</td>\n",
       "      <td>test</td>\n",
       "    </tr>\n",
       "    <tr>\n",
       "      <th>2</th>\n",
       "      <td>66</td>\n",
       "      <td>0x218443</td>\n",
       "      <td>enough satisfi goal realli money materi money ...</td>\n",
       "      <td>test</td>\n",
       "    </tr>\n",
       "    <tr>\n",
       "      <th>3</th>\n",
       "      <td>104</td>\n",
       "      <td>0x2939d5</td>\n",
       "      <td>god woke chase day godsplan godswork</td>\n",
       "      <td>test</td>\n",
       "    </tr>\n",
       "    <tr>\n",
       "      <th>4</th>\n",
       "      <td>310</td>\n",
       "      <td>0x26289a</td>\n",
       "      <td>tough time turn symbol hope</td>\n",
       "      <td>test</td>\n",
       "    </tr>\n",
       "    <tr>\n",
       "      <th>...</th>\n",
       "      <td>...</td>\n",
       "      <td>...</td>\n",
       "      <td>...</td>\n",
       "      <td>...</td>\n",
       "    </tr>\n",
       "    <tr>\n",
       "      <th>411967</th>\n",
       "      <td>602</td>\n",
       "      <td>0x2913b4</td>\n",
       "      <td>thi messag ye heard begin love one anoth john ...</td>\n",
       "      <td>test</td>\n",
       "    </tr>\n",
       "    <tr>\n",
       "      <th>411968</th>\n",
       "      <td>598</td>\n",
       "      <td>0x2a980e</td>\n",
       "      <td>lad hath five barley loav two small fish among...</td>\n",
       "      <td>test</td>\n",
       "    </tr>\n",
       "    <tr>\n",
       "      <th>411969</th>\n",
       "      <td>827</td>\n",
       "      <td>0x316b80</td>\n",
       "      <td>buy last 2 ticket remain show sell mixedfeel b...</td>\n",
       "      <td>test</td>\n",
       "    </tr>\n",
       "    <tr>\n",
       "      <th>411970</th>\n",
       "      <td>368</td>\n",
       "      <td>0x29d0cb</td>\n",
       "      <td>swear thi hard work gone pay one day😈💰💸</td>\n",
       "      <td>test</td>\n",
       "    </tr>\n",
       "    <tr>\n",
       "      <th>411971</th>\n",
       "      <td>498</td>\n",
       "      <td>0x2a6a4f</td>\n",
       "      <td>parcel2go card left wa nt idea get parcel</td>\n",
       "      <td>test</td>\n",
       "    </tr>\n",
       "  </tbody>\n",
       "</table>\n",
       "<p>411972 rows × 4 columns</p>\n",
       "</div>"
      ],
      "text/plain": [
       "        _score  tweet_id                                               text  \\\n",
       "0          232  0x28b412  confid obedi write know even ask philemon 121 ...   \n",
       "1          989  0x2de201  trust faith friend someon trust put faith anyo...   \n",
       "2           66  0x218443  enough satisfi goal realli money materi money ...   \n",
       "3          104  0x2939d5               god woke chase day godsplan godswork   \n",
       "4          310  0x26289a                        tough time turn symbol hope   \n",
       "...        ...       ...                                                ...   \n",
       "411967     602  0x2913b4  thi messag ye heard begin love one anoth john ...   \n",
       "411968     598  0x2a980e  lad hath five barley loav two small fish among...   \n",
       "411969     827  0x316b80  buy last 2 ticket remain show sell mixedfeel b...   \n",
       "411970     368  0x29d0cb            swear thi hard work gone pay one day😈💰💸   \n",
       "411971     498  0x2a6a4f          parcel2go card left wa nt idea get parcel   \n",
       "\n",
       "       identification  \n",
       "0                test  \n",
       "1                test  \n",
       "2                test  \n",
       "3                test  \n",
       "4                test  \n",
       "...               ...  \n",
       "411967           test  \n",
       "411968           test  \n",
       "411969           test  \n",
       "411970           test  \n",
       "411971           test  \n",
       "\n",
       "[411972 rows x 4 columns]"
      ]
     },
     "execution_count": 35,
     "metadata": {},
     "output_type": "execute_result"
    }
   ],
   "source": [
    "%%time\n",
    "from nltk.stem import PorterStemmer\n",
    "from nltk.tokenize import word_tokenize\n",
    "import re\n",
    "import string\n",
    "from nltk.corpus import stopwords\n",
    "\n",
    "twitter_test_data = pd.read_csv(\"twitter_test_data.csv\")\n",
    "\n",
    "stop = set(stopwords.words(\"english\"))\n",
    "\n",
    "def stemming(sentence):\n",
    "    ps = PorterStemmer()\n",
    "    words = word_tokenize(sentence)\n",
    "    res = []\n",
    "    for w in words:\n",
    "        res.append(ps.stem(w))\n",
    "    return ' '.join(res)\n",
    "\n",
    "\n",
    "def remove_URL(text):\n",
    "    url = re.compile(r\"https?://\\S+|www\\.\\S+\")\n",
    "    return url.sub(r\"\", text)\n",
    "\n",
    "\n",
    "def remove_html(text):\n",
    "    html = re.compile(r\"<.*?>\")\n",
    "    return html.sub(r\"\", text)\n",
    "\n",
    "def remove_emoji(string):\n",
    "    emoji_pattern = re.compile(\n",
    "        \"[\"\n",
    "        u\"\\U0001F600-\\U0001F64F\"  # emoticons\n",
    "        u\"\\U0001F300-\\U0001F5FF\"  # symbols & pictographs\n",
    "        u\"\\U0001F680-\\U0001F6FF\"  # transport & map symbols\n",
    "        u\"\\U0001F1E0-\\U0001F1FF\"  # flags (iOS)\n",
    "        u\"\\U00002702-\\U000027B0\"\n",
    "        u\"\\U000024C2-\\U0001F251\"\n",
    "        \"]+\",\n",
    "        flags=re.UNICODE,\n",
    "    )\n",
    "    return emoji_pattern.sub(r\"\", string)\n",
    "\n",
    "def remove_punct(text):\n",
    "    table = str.maketrans(\"\", \"\", string.punctuation)\n",
    "    return text.translate(table)\n",
    "\n",
    "\n",
    "\n",
    "def remove_stopwords(text):\n",
    "    text = [word.lower() for word in text.split() if word.lower() not in stop]\n",
    "    return \" \".join(text)\n",
    "\n",
    "#twitter_test_data[\"text\"] = twitter_test_data.text.apply(stemming)\n",
    "twitter_test_data[\"text\"] = twitter_test_data.text.apply(remove_URL)\n",
    "twitter_test_data[\"text\"] = twitter_test_data.text.apply(remove_html)\n",
    "twitter_test_data[\"text\"] = twitter_test_data.text.apply(remove_punct)\n",
    "twitter_test_data[\"text\"] = twitter_test_data.text.apply(remove_stopwords)\n",
    "\n",
    "twitter_test_data"
   ]
  },
  {
   "cell_type": "code",
   "execution_count": 36,
   "id": "c84808f8",
   "metadata": {},
   "outputs": [
    {
     "data": {
      "text/plain": [
       "array([[    0,     0,     0, ...,   147, 29195,  3907],\n",
       "       [    0,     0,     0, ...,   966,  5729, 36990],\n",
       "       [    0,     0,     0, ...,  2785,   219,  2559],\n",
       "       ...,\n",
       "       [    0,     0,     0, ...,    77,   167, 25791],\n",
       "       [    0,     0,     0, ...,   451,   309,    14],\n",
       "       [    0,     0,     0, ...,   377,     7,  4386]])"
      ]
     },
     "execution_count": 36,
     "metadata": {},
     "output_type": "execute_result"
    }
   ],
   "source": [
    "seq = tokenizer.texts_to_sequences(twitter_test_data.text)\n",
    "padded = pad_sequences(seq, maxlen=MAX_SEQUENCE_LENGTH)\n",
    "padded"
   ]
  },
  {
   "cell_type": "code",
   "execution_count": 37,
   "id": "f2c6821d",
   "metadata": {},
   "outputs": [],
   "source": [
    "%% time\n",
    "pred = model.predict(padded, batch_size=128)\n",
    "\n",
    "public_pred = []\n",
    "for p in pred:\n",
    "    public_pred.append(labels[np.argmax(p)])"
   ]
  },
  {
   "cell_type": "code",
   "execution_count": 38,
   "id": "51be6e61",
   "metadata": {},
   "outputs": [
    {
     "data": {
      "text/html": [
       "<div>\n",
       "<style scoped>\n",
       "    .dataframe tbody tr th:only-of-type {\n",
       "        vertical-align: middle;\n",
       "    }\n",
       "\n",
       "    .dataframe tbody tr th {\n",
       "        vertical-align: top;\n",
       "    }\n",
       "\n",
       "    .dataframe thead th {\n",
       "        text-align: right;\n",
       "    }\n",
       "</style>\n",
       "<table border=\"1\" class=\"dataframe\">\n",
       "  <thead>\n",
       "    <tr style=\"text-align: right;\">\n",
       "      <th></th>\n",
       "      <th>id</th>\n",
       "      <th>emotion</th>\n",
       "    </tr>\n",
       "  </thead>\n",
       "  <tbody>\n",
       "    <tr>\n",
       "      <th>0</th>\n",
       "      <td>0x28b412</td>\n",
       "      <td>anticipation</td>\n",
       "    </tr>\n",
       "    <tr>\n",
       "      <th>1</th>\n",
       "      <td>0x2de201</td>\n",
       "      <td>anticipation</td>\n",
       "    </tr>\n",
       "    <tr>\n",
       "      <th>2</th>\n",
       "      <td>0x218443</td>\n",
       "      <td>joy</td>\n",
       "    </tr>\n",
       "    <tr>\n",
       "      <th>3</th>\n",
       "      <td>0x2939d5</td>\n",
       "      <td>anticipation</td>\n",
       "    </tr>\n",
       "    <tr>\n",
       "      <th>4</th>\n",
       "      <td>0x26289a</td>\n",
       "      <td>trust</td>\n",
       "    </tr>\n",
       "    <tr>\n",
       "      <th>...</th>\n",
       "      <td>...</td>\n",
       "      <td>...</td>\n",
       "    </tr>\n",
       "    <tr>\n",
       "      <th>411967</th>\n",
       "      <td>0x2913b4</td>\n",
       "      <td>joy</td>\n",
       "    </tr>\n",
       "    <tr>\n",
       "      <th>411968</th>\n",
       "      <td>0x2a980e</td>\n",
       "      <td>anticipation</td>\n",
       "    </tr>\n",
       "    <tr>\n",
       "      <th>411969</th>\n",
       "      <td>0x316b80</td>\n",
       "      <td>sadness</td>\n",
       "    </tr>\n",
       "    <tr>\n",
       "      <th>411970</th>\n",
       "      <td>0x29d0cb</td>\n",
       "      <td>joy</td>\n",
       "    </tr>\n",
       "    <tr>\n",
       "      <th>411971</th>\n",
       "      <td>0x2a6a4f</td>\n",
       "      <td>sadness</td>\n",
       "    </tr>\n",
       "  </tbody>\n",
       "</table>\n",
       "<p>411972 rows × 2 columns</p>\n",
       "</div>"
      ],
      "text/plain": [
       "              id       emotion\n",
       "0       0x28b412  anticipation\n",
       "1       0x2de201  anticipation\n",
       "2       0x218443           joy\n",
       "3       0x2939d5  anticipation\n",
       "4       0x26289a         trust\n",
       "...          ...           ...\n",
       "411967  0x2913b4           joy\n",
       "411968  0x2a980e  anticipation\n",
       "411969  0x316b80       sadness\n",
       "411970  0x29d0cb           joy\n",
       "411971  0x2a6a4f       sadness\n",
       "\n",
       "[411972 rows x 2 columns]"
      ]
     },
     "execution_count": 38,
     "metadata": {},
     "output_type": "execute_result"
    }
   ],
   "source": [
    "upload_df = pd.DataFrame()\n",
    "upload_df[\"id\"] = twitter_test_data[\"tweet_id\"]\n",
    "upload_df[\"emotion\"] = public_pred\n",
    "upload_df"
   ]
  },
  {
   "cell_type": "code",
   "execution_count": 39,
   "id": "6cc453eb",
   "metadata": {},
   "outputs": [
    {
     "data": {
      "text/plain": [
       "joy             192959\n",
       "sadness          72694\n",
       "anticipation     51142\n",
       "disgust          47096\n",
       "trust            26039\n",
       "fear              9328\n",
       "anger             6397\n",
       "surprise          6317\n",
       "Name: emotion, dtype: int64"
      ]
     },
     "execution_count": 39,
     "metadata": {},
     "output_type": "execute_result"
    }
   ],
   "source": [
    "upload_df.emotion.value_counts()"
   ]
  },
  {
   "cell_type": "code",
   "execution_count": 40,
   "id": "5772156a",
   "metadata": {},
   "outputs": [],
   "source": [
    "upload_df.to_csv(\"predictions/RNN_take4_with_bal.csv\",index=False)"
   ]
  },
  {
   "cell_type": "code",
   "execution_count": null,
   "id": "c15e632b",
   "metadata": {},
   "outputs": [],
   "source": []
  }
 ],
 "metadata": {
  "kernelspec": {
   "display_name": "Python 3",
   "language": "python",
   "name": "python3"
  },
  "language_info": {
   "codemirror_mode": {
    "name": "ipython",
    "version": 3
   },
   "file_extension": ".py",
   "mimetype": "text/x-python",
   "name": "python",
   "nbconvert_exporter": "python",
   "pygments_lexer": "ipython3",
   "version": "3.8.8"
  }
 },
 "nbformat": 4,
 "nbformat_minor": 5
}
